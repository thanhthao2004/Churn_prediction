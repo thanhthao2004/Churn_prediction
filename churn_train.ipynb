{
 "cells": [
  {
   "cell_type": "markdown",
   "metadata": {},
   "source": [
    "* CLIENTNUM - Customer_ID\n",
    "* Attrition_Flag - Trạng thái khách hàng (target)\n",
    "* Customer_Age - Tuổi khách hàng\n",
    "* Gender - Giới tính\n",
    "* Dependent_count - Số người phụ thuộc\n",
    "* Education_Level - Trình độ học vấn\n",
    "* Marital_Status - Tình trạng hôn nhân\n",
    "* Income_Category - Thu nhập\n",
    "* Card_Category - Loại thẻ thanh toán\n",
    "* Months_on_book - Thời gian sử dụng dịch vụ của ngân hàng\n",
    "* Total_Relationship_Count - Tổng số sản phẩm khách hàng sử dụng\n",
    "* Months_Inactive_12_mon -  Số tháng không hoạt động trong 12 tháng qua\n",
    "* Contacts_Count_12_mon - Số tháng liên hệ trong 12 tháng qua\n",
    "* Credit_Limit - Hạn mức sử dụng trên thẻ tín dụng\n",
    "* Total_Revolving_Bal - Tổng số dư quay vòng trên thẻ tín dụng\n",
    "* Avg_Open_To_Buy - Hạn mức tín dụng trung bình (trung bình 12 tháng qua)\n",
    "* Total_Amt_Chng_Q4_Q1 - Thay đổi về số tiền giao dịch (Q4 so với Q1)\n",
    "* Total_Trans_Amt - Tổng giá trị giao dịch (12 tháng qua)\n",
    "* Total_Trans_Ct - Số lượng giao dịch (12 tháng qua)\n",
    "* Total_Ct_Chng_Q4_Q1 - Thay đổi về số lượng giao dịch (Q4 so với Q1)\n",
    "* Avg_Utilization_Ratio - Tỉ lệ sử dụng thẻ trung bình"
   ]
  },
  {
   "cell_type": "code",
   "execution_count": 2,
   "metadata": {},
   "outputs": [
    {
     "name": "stderr",
     "output_type": "stream",
     "text": [
      "C:\\Users\\HP\\AppData\\Local\\Temp\\ipykernel_2068\\265554930.py:2: DeprecationWarning: \n",
      "Pyarrow will become a required dependency of pandas in the next major release of pandas (pandas 3.0),\n",
      "(to allow more performant data types, such as the Arrow string type, and better interoperability with other libraries)\n",
      "but was not found to be installed on your system.\n",
      "If this would cause problems for you,\n",
      "please provide us feedback at https://github.com/pandas-dev/pandas/issues/54466\n",
      "        \n",
      "  import pandas as pd\n"
     ]
    }
   ],
   "source": [
    "import numpy as np\n",
    "import pandas as pd\n",
    "import matplotlib.pyplot as plt\n",
    "import seaborn as sns"
   ]
  },
  {
   "cell_type": "code",
   "execution_count": 3,
   "metadata": {},
   "outputs": [],
   "source": [
    "path = 'D:\\\\AI\\\\AI club\\\\Churn_prediction\\\\DATA\\\\BankChurners.csv'\n",
    "df = pd.read_csv(path)"
   ]
  },
  {
   "cell_type": "code",
   "execution_count": 4,
   "metadata": {},
   "outputs": [
    {
     "data": {
      "text/html": [
       "<div>\n",
       "<style scoped>\n",
       "    .dataframe tbody tr th:only-of-type {\n",
       "        vertical-align: middle;\n",
       "    }\n",
       "\n",
       "    .dataframe tbody tr th {\n",
       "        vertical-align: top;\n",
       "    }\n",
       "\n",
       "    .dataframe thead th {\n",
       "        text-align: right;\n",
       "    }\n",
       "</style>\n",
       "<table border=\"1\" class=\"dataframe\">\n",
       "  <thead>\n",
       "    <tr style=\"text-align: right;\">\n",
       "      <th></th>\n",
       "      <th>CLIENTNUM</th>\n",
       "      <th>Attrition_Flag</th>\n",
       "      <th>Customer_Age</th>\n",
       "      <th>Gender</th>\n",
       "      <th>Dependent_count</th>\n",
       "      <th>Education_Level</th>\n",
       "      <th>Marital_Status</th>\n",
       "      <th>Income_Category</th>\n",
       "      <th>Card_Category</th>\n",
       "      <th>Months_on_book</th>\n",
       "      <th>...</th>\n",
       "      <th>Credit_Limit</th>\n",
       "      <th>Total_Revolving_Bal</th>\n",
       "      <th>Avg_Open_To_Buy</th>\n",
       "      <th>Total_Amt_Chng_Q4_Q1</th>\n",
       "      <th>Total_Trans_Amt</th>\n",
       "      <th>Total_Trans_Ct</th>\n",
       "      <th>Total_Ct_Chng_Q4_Q1</th>\n",
       "      <th>Avg_Utilization_Ratio</th>\n",
       "      <th>Naive_Bayes_Classifier_Attrition_Flag_Card_Category_Contacts_Count_12_mon_Dependent_count_Education_Level_Months_Inactive_12_mon_1</th>\n",
       "      <th>Naive_Bayes_Classifier_Attrition_Flag_Card_Category_Contacts_Count_12_mon_Dependent_count_Education_Level_Months_Inactive_12_mon_2</th>\n",
       "    </tr>\n",
       "  </thead>\n",
       "  <tbody>\n",
       "    <tr>\n",
       "      <th>0</th>\n",
       "      <td>714374133</td>\n",
       "      <td>Attrited Customer</td>\n",
       "      <td>56</td>\n",
       "      <td>M</td>\n",
       "      <td>2</td>\n",
       "      <td>Graduate</td>\n",
       "      <td>Married</td>\n",
       "      <td>$120K +</td>\n",
       "      <td>Blue</td>\n",
       "      <td>36</td>\n",
       "      <td>...</td>\n",
       "      <td>15769.0</td>\n",
       "      <td>0</td>\n",
       "      <td>15769.0</td>\n",
       "      <td>1.041</td>\n",
       "      <td>602</td>\n",
       "      <td>15</td>\n",
       "      <td>0.364</td>\n",
       "      <td>0.000</td>\n",
       "      <td>0.996710</td>\n",
       "      <td>0.003294</td>\n",
       "    </tr>\n",
       "    <tr>\n",
       "      <th>1</th>\n",
       "      <td>717891558</td>\n",
       "      <td>Existing Customer</td>\n",
       "      <td>49</td>\n",
       "      <td>F</td>\n",
       "      <td>4</td>\n",
       "      <td>Graduate</td>\n",
       "      <td>Unknown</td>\n",
       "      <td>Less than $40K</td>\n",
       "      <td>Blue</td>\n",
       "      <td>36</td>\n",
       "      <td>...</td>\n",
       "      <td>3298.0</td>\n",
       "      <td>2200</td>\n",
       "      <td>1098.0</td>\n",
       "      <td>0.678</td>\n",
       "      <td>1052</td>\n",
       "      <td>32</td>\n",
       "      <td>0.600</td>\n",
       "      <td>0.667</td>\n",
       "      <td>0.000228</td>\n",
       "      <td>0.999770</td>\n",
       "    </tr>\n",
       "    <tr>\n",
       "      <th>2</th>\n",
       "      <td>716632758</td>\n",
       "      <td>Existing Customer</td>\n",
       "      <td>49</td>\n",
       "      <td>F</td>\n",
       "      <td>3</td>\n",
       "      <td>Graduate</td>\n",
       "      <td>Single</td>\n",
       "      <td>Less than $40K</td>\n",
       "      <td>Blue</td>\n",
       "      <td>36</td>\n",
       "      <td>...</td>\n",
       "      <td>2802.0</td>\n",
       "      <td>2363</td>\n",
       "      <td>439.0</td>\n",
       "      <td>0.750</td>\n",
       "      <td>1295</td>\n",
       "      <td>40</td>\n",
       "      <td>0.600</td>\n",
       "      <td>0.843</td>\n",
       "      <td>0.000044</td>\n",
       "      <td>0.999960</td>\n",
       "    </tr>\n",
       "    <tr>\n",
       "      <th>3</th>\n",
       "      <td>768563658</td>\n",
       "      <td>Existing Customer</td>\n",
       "      <td>56</td>\n",
       "      <td>M</td>\n",
       "      <td>2</td>\n",
       "      <td>Uneducated</td>\n",
       "      <td>Married</td>\n",
       "      <td>$40K - $60K</td>\n",
       "      <td>Blue</td>\n",
       "      <td>50</td>\n",
       "      <td>...</td>\n",
       "      <td>4458.0</td>\n",
       "      <td>1880</td>\n",
       "      <td>2578.0</td>\n",
       "      <td>1.107</td>\n",
       "      <td>1424</td>\n",
       "      <td>29</td>\n",
       "      <td>1.417</td>\n",
       "      <td>0.422</td>\n",
       "      <td>0.000197</td>\n",
       "      <td>0.999800</td>\n",
       "    </tr>\n",
       "    <tr>\n",
       "      <th>4</th>\n",
       "      <td>711427458</td>\n",
       "      <td>Existing Customer</td>\n",
       "      <td>44</td>\n",
       "      <td>F</td>\n",
       "      <td>5</td>\n",
       "      <td>Graduate</td>\n",
       "      <td>Married</td>\n",
       "      <td>Unknown</td>\n",
       "      <td>Blue</td>\n",
       "      <td>35</td>\n",
       "      <td>...</td>\n",
       "      <td>6273.0</td>\n",
       "      <td>978</td>\n",
       "      <td>5295.0</td>\n",
       "      <td>2.275</td>\n",
       "      <td>1359</td>\n",
       "      <td>25</td>\n",
       "      <td>1.083</td>\n",
       "      <td>0.156</td>\n",
       "      <td>0.000057</td>\n",
       "      <td>0.999940</td>\n",
       "    </tr>\n",
       "  </tbody>\n",
       "</table>\n",
       "<p>5 rows × 23 columns</p>\n",
       "</div>"
      ],
      "text/plain": [
       "   CLIENTNUM     Attrition_Flag  Customer_Age Gender  Dependent_count  \\\n",
       "0  714374133  Attrited Customer            56      M                2   \n",
       "1  717891558  Existing Customer            49      F                4   \n",
       "2  716632758  Existing Customer            49      F                3   \n",
       "3  768563658  Existing Customer            56      M                2   \n",
       "4  711427458  Existing Customer            44      F                5   \n",
       "\n",
       "  Education_Level Marital_Status Income_Category Card_Category  \\\n",
       "0        Graduate        Married         $120K +          Blue   \n",
       "1        Graduate        Unknown  Less than $40K          Blue   \n",
       "2        Graduate         Single  Less than $40K          Blue   \n",
       "3      Uneducated        Married     $40K - $60K          Blue   \n",
       "4        Graduate        Married         Unknown          Blue   \n",
       "\n",
       "   Months_on_book  ...  Credit_Limit  Total_Revolving_Bal  Avg_Open_To_Buy  \\\n",
       "0              36  ...       15769.0                    0          15769.0   \n",
       "1              36  ...        3298.0                 2200           1098.0   \n",
       "2              36  ...        2802.0                 2363            439.0   \n",
       "3              50  ...        4458.0                 1880           2578.0   \n",
       "4              35  ...        6273.0                  978           5295.0   \n",
       "\n",
       "   Total_Amt_Chng_Q4_Q1  Total_Trans_Amt  Total_Trans_Ct  Total_Ct_Chng_Q4_Q1  \\\n",
       "0                 1.041              602              15                0.364   \n",
       "1                 0.678             1052              32                0.600   \n",
       "2                 0.750             1295              40                0.600   \n",
       "3                 1.107             1424              29                1.417   \n",
       "4                 2.275             1359              25                1.083   \n",
       "\n",
       "   Avg_Utilization_Ratio  \\\n",
       "0                  0.000   \n",
       "1                  0.667   \n",
       "2                  0.843   \n",
       "3                  0.422   \n",
       "4                  0.156   \n",
       "\n",
       "   Naive_Bayes_Classifier_Attrition_Flag_Card_Category_Contacts_Count_12_mon_Dependent_count_Education_Level_Months_Inactive_12_mon_1  \\\n",
       "0                                           0.996710                                                                                    \n",
       "1                                           0.000228                                                                                    \n",
       "2                                           0.000044                                                                                    \n",
       "3                                           0.000197                                                                                    \n",
       "4                                           0.000057                                                                                    \n",
       "\n",
       "   Naive_Bayes_Classifier_Attrition_Flag_Card_Category_Contacts_Count_12_mon_Dependent_count_Education_Level_Months_Inactive_12_mon_2  \n",
       "0                                           0.003294                                                                                   \n",
       "1                                           0.999770                                                                                   \n",
       "2                                           0.999960                                                                                   \n",
       "3                                           0.999800                                                                                   \n",
       "4                                           0.999940                                                                                   \n",
       "\n",
       "[5 rows x 23 columns]"
      ]
     },
     "execution_count": 4,
     "metadata": {},
     "output_type": "execute_result"
    }
   ],
   "source": [
    "df.head()"
   ]
  },
  {
   "cell_type": "code",
   "execution_count": 5,
   "metadata": {},
   "outputs": [],
   "source": [
    "df.drop(columns=['Naive_Bayes_Classifier_Attrition_Flag_Card_Category_Contacts_Count_12_mon_Dependent_count_Education_Level_Months_Inactive_12_mon_1','Naive_Bayes_Classifier_Attrition_Flag_Card_Category_Contacts_Count_12_mon_Dependent_count_Education_Level_Months_Inactive_12_mon_2'],inplace=True)"
   ]
  },
  {
   "cell_type": "code",
   "execution_count": 6,
   "metadata": {},
   "outputs": [
    {
     "name": "stdout",
     "output_type": "stream",
     "text": [
      "<class 'pandas.core.frame.DataFrame'>\n",
      "RangeIndex: 10073 entries, 0 to 10072\n",
      "Data columns (total 21 columns):\n",
      " #   Column                    Non-Null Count  Dtype  \n",
      "---  ------                    --------------  -----  \n",
      " 0   CLIENTNUM                 10073 non-null  int64  \n",
      " 1   Attrition_Flag            10073 non-null  object \n",
      " 2   Customer_Age              10073 non-null  int64  \n",
      " 3   Gender                    10073 non-null  object \n",
      " 4   Dependent_count           10073 non-null  int64  \n",
      " 5   Education_Level           10073 non-null  object \n",
      " 6   Marital_Status            10073 non-null  object \n",
      " 7   Income_Category           10073 non-null  object \n",
      " 8   Card_Category             10073 non-null  object \n",
      " 9   Months_on_book            10073 non-null  int64  \n",
      " 10  Total_Relationship_Count  10073 non-null  int64  \n",
      " 11  Months_Inactive_12_mon    10073 non-null  int64  \n",
      " 12  Contacts_Count_12_mon     10073 non-null  int64  \n",
      " 13  Credit_Limit              10073 non-null  float64\n",
      " 14  Total_Revolving_Bal       10073 non-null  int64  \n",
      " 15  Avg_Open_To_Buy           10073 non-null  float64\n",
      " 16  Total_Amt_Chng_Q4_Q1      10073 non-null  float64\n",
      " 17  Total_Trans_Amt           10073 non-null  int64  \n",
      " 18  Total_Trans_Ct            10073 non-null  int64  \n",
      " 19  Total_Ct_Chng_Q4_Q1       10073 non-null  float64\n",
      " 20  Avg_Utilization_Ratio     10073 non-null  float64\n",
      "dtypes: float64(5), int64(10), object(6)\n",
      "memory usage: 1.6+ MB\n"
     ]
    }
   ],
   "source": [
    "df.info()"
   ]
  },
  {
   "cell_type": "code",
   "execution_count": 7,
   "metadata": {},
   "outputs": [
    {
     "data": {
      "text/html": [
       "<div>\n",
       "<style scoped>\n",
       "    .dataframe tbody tr th:only-of-type {\n",
       "        vertical-align: middle;\n",
       "    }\n",
       "\n",
       "    .dataframe tbody tr th {\n",
       "        vertical-align: top;\n",
       "    }\n",
       "\n",
       "    .dataframe thead th {\n",
       "        text-align: right;\n",
       "    }\n",
       "</style>\n",
       "<table border=\"1\" class=\"dataframe\">\n",
       "  <thead>\n",
       "    <tr style=\"text-align: right;\">\n",
       "      <th></th>\n",
       "      <th>CLIENTNUM</th>\n",
       "      <th>Customer_Age</th>\n",
       "      <th>Dependent_count</th>\n",
       "      <th>Months_on_book</th>\n",
       "      <th>Total_Relationship_Count</th>\n",
       "      <th>Months_Inactive_12_mon</th>\n",
       "      <th>Contacts_Count_12_mon</th>\n",
       "      <th>Credit_Limit</th>\n",
       "      <th>Total_Revolving_Bal</th>\n",
       "      <th>Avg_Open_To_Buy</th>\n",
       "      <th>Total_Amt_Chng_Q4_Q1</th>\n",
       "      <th>Total_Trans_Amt</th>\n",
       "      <th>Total_Trans_Ct</th>\n",
       "      <th>Total_Ct_Chng_Q4_Q1</th>\n",
       "      <th>Avg_Utilization_Ratio</th>\n",
       "    </tr>\n",
       "  </thead>\n",
       "  <tbody>\n",
       "    <tr>\n",
       "      <th>count</th>\n",
       "      <td>1.007300e+04</td>\n",
       "      <td>10073.000000</td>\n",
       "      <td>10073.000000</td>\n",
       "      <td>10073.000000</td>\n",
       "      <td>10073.000000</td>\n",
       "      <td>10073.000000</td>\n",
       "      <td>10073.000000</td>\n",
       "      <td>10073.000000</td>\n",
       "      <td>10073.000000</td>\n",
       "      <td>10073.000000</td>\n",
       "      <td>10073.000000</td>\n",
       "      <td>10073.000000</td>\n",
       "      <td>10073.000000</td>\n",
       "      <td>10073.000000</td>\n",
       "      <td>10073.000000</td>\n",
       "    </tr>\n",
       "    <tr>\n",
       "      <th>mean</th>\n",
       "      <td>7.391060e+08</td>\n",
       "      <td>46.307753</td>\n",
       "      <td>2.346173</td>\n",
       "      <td>35.907575</td>\n",
       "      <td>3.810583</td>\n",
       "      <td>2.342003</td>\n",
       "      <td>2.458553</td>\n",
       "      <td>8623.555296</td>\n",
       "      <td>1161.915914</td>\n",
       "      <td>7461.639383</td>\n",
       "      <td>0.756811</td>\n",
       "      <td>4420.605381</td>\n",
       "      <td>65.057778</td>\n",
       "      <td>0.709552</td>\n",
       "      <td>0.275008</td>\n",
       "    </tr>\n",
       "    <tr>\n",
       "      <th>std</th>\n",
       "      <td>3.686767e+07</td>\n",
       "      <td>8.013157</td>\n",
       "      <td>1.298633</td>\n",
       "      <td>7.981878</td>\n",
       "      <td>1.555072</td>\n",
       "      <td>1.009919</td>\n",
       "      <td>1.105574</td>\n",
       "      <td>9089.099323</td>\n",
       "      <td>814.972444</td>\n",
       "      <td>9091.240007</td>\n",
       "      <td>0.210386</td>\n",
       "      <td>3398.624057</td>\n",
       "      <td>23.371389</td>\n",
       "      <td>0.229991</td>\n",
       "      <td>0.275812</td>\n",
       "    </tr>\n",
       "    <tr>\n",
       "      <th>min</th>\n",
       "      <td>7.080821e+08</td>\n",
       "      <td>26.000000</td>\n",
       "      <td>0.000000</td>\n",
       "      <td>13.000000</td>\n",
       "      <td>1.000000</td>\n",
       "      <td>0.000000</td>\n",
       "      <td>0.000000</td>\n",
       "      <td>1438.300000</td>\n",
       "      <td>0.000000</td>\n",
       "      <td>3.000000</td>\n",
       "      <td>0.000000</td>\n",
       "      <td>510.000000</td>\n",
       "      <td>10.000000</td>\n",
       "      <td>0.000000</td>\n",
       "      <td>0.000000</td>\n",
       "    </tr>\n",
       "    <tr>\n",
       "      <th>25%</th>\n",
       "      <td>7.130398e+08</td>\n",
       "      <td>41.000000</td>\n",
       "      <td>1.000000</td>\n",
       "      <td>31.000000</td>\n",
       "      <td>3.000000</td>\n",
       "      <td>2.000000</td>\n",
       "      <td>2.000000</td>\n",
       "      <td>2550.000000</td>\n",
       "      <td>347.000000</td>\n",
       "      <td>1322.000000</td>\n",
       "      <td>0.630000</td>\n",
       "      <td>2176.000000</td>\n",
       "      <td>45.000000</td>\n",
       "      <td>0.581000</td>\n",
       "      <td>0.022000</td>\n",
       "    </tr>\n",
       "    <tr>\n",
       "      <th>50%</th>\n",
       "      <td>7.179125e+08</td>\n",
       "      <td>46.000000</td>\n",
       "      <td>2.000000</td>\n",
       "      <td>36.000000</td>\n",
       "      <td>4.000000</td>\n",
       "      <td>2.000000</td>\n",
       "      <td>2.000000</td>\n",
       "      <td>4543.000000</td>\n",
       "      <td>1276.000000</td>\n",
       "      <td>3460.000000</td>\n",
       "      <td>0.736000</td>\n",
       "      <td>3911.000000</td>\n",
       "      <td>67.000000</td>\n",
       "      <td>0.700000</td>\n",
       "      <td>0.176000</td>\n",
       "    </tr>\n",
       "    <tr>\n",
       "      <th>75%</th>\n",
       "      <td>7.728792e+08</td>\n",
       "      <td>52.000000</td>\n",
       "      <td>3.000000</td>\n",
       "      <td>40.000000</td>\n",
       "      <td>5.000000</td>\n",
       "      <td>3.000000</td>\n",
       "      <td>3.000000</td>\n",
       "      <td>11037.000000</td>\n",
       "      <td>1783.000000</td>\n",
       "      <td>9827.000000</td>\n",
       "      <td>0.857000</td>\n",
       "      <td>4747.000000</td>\n",
       "      <td>81.000000</td>\n",
       "      <td>0.818000</td>\n",
       "      <td>0.503000</td>\n",
       "    </tr>\n",
       "    <tr>\n",
       "      <th>max</th>\n",
       "      <td>8.283431e+08</td>\n",
       "      <td>73.000000</td>\n",
       "      <td>5.000000</td>\n",
       "      <td>56.000000</td>\n",
       "      <td>6.000000</td>\n",
       "      <td>6.000000</td>\n",
       "      <td>6.000000</td>\n",
       "      <td>34516.000000</td>\n",
       "      <td>2517.000000</td>\n",
       "      <td>34516.000000</td>\n",
       "      <td>2.675000</td>\n",
       "      <td>18484.000000</td>\n",
       "      <td>139.000000</td>\n",
       "      <td>3.571000</td>\n",
       "      <td>0.999000</td>\n",
       "    </tr>\n",
       "  </tbody>\n",
       "</table>\n",
       "</div>"
      ],
      "text/plain": [
       "          CLIENTNUM  Customer_Age  Dependent_count  Months_on_book  \\\n",
       "count  1.007300e+04  10073.000000     10073.000000    10073.000000   \n",
       "mean   7.391060e+08     46.307753         2.346173       35.907575   \n",
       "std    3.686767e+07      8.013157         1.298633        7.981878   \n",
       "min    7.080821e+08     26.000000         0.000000       13.000000   \n",
       "25%    7.130398e+08     41.000000         1.000000       31.000000   \n",
       "50%    7.179125e+08     46.000000         2.000000       36.000000   \n",
       "75%    7.728792e+08     52.000000         3.000000       40.000000   \n",
       "max    8.283431e+08     73.000000         5.000000       56.000000   \n",
       "\n",
       "       Total_Relationship_Count  Months_Inactive_12_mon  \\\n",
       "count              10073.000000            10073.000000   \n",
       "mean                   3.810583                2.342003   \n",
       "std                    1.555072                1.009919   \n",
       "min                    1.000000                0.000000   \n",
       "25%                    3.000000                2.000000   \n",
       "50%                    4.000000                2.000000   \n",
       "75%                    5.000000                3.000000   \n",
       "max                    6.000000                6.000000   \n",
       "\n",
       "       Contacts_Count_12_mon  Credit_Limit  Total_Revolving_Bal  \\\n",
       "count           10073.000000  10073.000000         10073.000000   \n",
       "mean                2.458553   8623.555296          1161.915914   \n",
       "std                 1.105574   9089.099323           814.972444   \n",
       "min                 0.000000   1438.300000             0.000000   \n",
       "25%                 2.000000   2550.000000           347.000000   \n",
       "50%                 2.000000   4543.000000          1276.000000   \n",
       "75%                 3.000000  11037.000000          1783.000000   \n",
       "max                 6.000000  34516.000000          2517.000000   \n",
       "\n",
       "       Avg_Open_To_Buy  Total_Amt_Chng_Q4_Q1  Total_Trans_Amt  Total_Trans_Ct  \\\n",
       "count     10073.000000          10073.000000     10073.000000    10073.000000   \n",
       "mean       7461.639383              0.756811      4420.605381       65.057778   \n",
       "std        9091.240007              0.210386      3398.624057       23.371389   \n",
       "min           3.000000              0.000000       510.000000       10.000000   \n",
       "25%        1322.000000              0.630000      2176.000000       45.000000   \n",
       "50%        3460.000000              0.736000      3911.000000       67.000000   \n",
       "75%        9827.000000              0.857000      4747.000000       81.000000   \n",
       "max       34516.000000              2.675000     18484.000000      139.000000   \n",
       "\n",
       "       Total_Ct_Chng_Q4_Q1  Avg_Utilization_Ratio  \n",
       "count         10073.000000           10073.000000  \n",
       "mean              0.709552               0.275008  \n",
       "std               0.229991               0.275812  \n",
       "min               0.000000               0.000000  \n",
       "25%               0.581000               0.022000  \n",
       "50%               0.700000               0.176000  \n",
       "75%               0.818000               0.503000  \n",
       "max               3.571000               0.999000  "
      ]
     },
     "execution_count": 7,
     "metadata": {},
     "output_type": "execute_result"
    }
   ],
   "source": [
    "df.describe()"
   ]
  },
  {
   "cell_type": "code",
   "execution_count": 8,
   "metadata": {},
   "outputs": [
    {
     "data": {
      "text/plain": [
       "Attrition_Flag\n",
       "Existing Customer    8449\n",
       "Attrited Customer    1624\n",
       "Name: count, dtype: int64"
      ]
     },
     "execution_count": 8,
     "metadata": {},
     "output_type": "execute_result"
    }
   ],
   "source": [
    "df['Attrition_Flag'].value_counts()"
   ]
  },
  {
   "cell_type": "code",
   "execution_count": 9,
   "metadata": {},
   "outputs": [],
   "source": [
    "df.drop_duplicates(inplace=True)"
   ]
  },
  {
   "cell_type": "markdown",
   "metadata": {},
   "source": [
    "# Age mean,min,max of Attrition_Flag"
   ]
  },
  {
   "cell_type": "code",
   "execution_count": 10,
   "metadata": {},
   "outputs": [
    {
     "data": {
      "text/html": [
       "<div>\n",
       "<style scoped>\n",
       "    .dataframe tbody tr th:only-of-type {\n",
       "        vertical-align: middle;\n",
       "    }\n",
       "\n",
       "    .dataframe tbody tr th {\n",
       "        vertical-align: top;\n",
       "    }\n",
       "\n",
       "    .dataframe thead tr th {\n",
       "        text-align: left;\n",
       "    }\n",
       "\n",
       "    .dataframe thead tr:last-of-type th {\n",
       "        text-align: right;\n",
       "    }\n",
       "</style>\n",
       "<table border=\"1\" class=\"dataframe\">\n",
       "  <thead>\n",
       "    <tr>\n",
       "      <th></th>\n",
       "      <th colspan=\"3\" halign=\"left\">Customer_Age</th>\n",
       "    </tr>\n",
       "    <tr>\n",
       "      <th></th>\n",
       "      <th>mean</th>\n",
       "      <th>min</th>\n",
       "      <th>max</th>\n",
       "    </tr>\n",
       "    <tr>\n",
       "      <th>Attrition_Flag</th>\n",
       "      <th></th>\n",
       "      <th></th>\n",
       "      <th></th>\n",
       "    </tr>\n",
       "  </thead>\n",
       "  <tbody>\n",
       "    <tr>\n",
       "      <th>Attrited Customer</th>\n",
       "      <td>46.633621</td>\n",
       "      <td>26</td>\n",
       "      <td>68</td>\n",
       "    </tr>\n",
       "    <tr>\n",
       "      <th>Existing Customer</th>\n",
       "      <td>46.245118</td>\n",
       "      <td>26</td>\n",
       "      <td>73</td>\n",
       "    </tr>\n",
       "  </tbody>\n",
       "</table>\n",
       "</div>"
      ],
      "text/plain": [
       "                  Customer_Age        \n",
       "                          mean min max\n",
       "Attrition_Flag                        \n",
       "Attrited Customer    46.633621  26  68\n",
       "Existing Customer    46.245118  26  73"
      ]
     },
     "execution_count": 10,
     "metadata": {},
     "output_type": "execute_result"
    }
   ],
   "source": [
    "df.groupby('Attrition_Flag')[['Customer_Age']].agg(('mean','min','max')) # -> the elderly tend to be existing"
   ]
  },
  {
   "cell_type": "markdown",
   "metadata": {},
   "source": [
    "# Gender counting in Attrition_Flag "
   ]
  },
  {
   "cell_type": "code",
   "execution_count": 11,
   "metadata": {},
   "outputs": [
    {
     "data": {
      "text/plain": [
       "Attrition_Flag\n",
       "Attrited Customer    1624\n",
       "Existing Customer    8449\n",
       "Name: Gender, dtype: int64"
      ]
     },
     "execution_count": 11,
     "metadata": {},
     "output_type": "execute_result"
    }
   ],
   "source": [
    "df.groupby('Attrition_Flag')['Gender'].count()"
   ]
  },
  {
   "cell_type": "markdown",
   "metadata": {},
   "source": [
    "# Female counting in Existing Customer"
   ]
  },
  {
   "cell_type": "code",
   "execution_count": 12,
   "metadata": {},
   "outputs": [
    {
     "data": {
      "text/plain": [
       "4412"
      ]
     },
     "execution_count": 12,
     "metadata": {},
     "output_type": "execute_result"
    }
   ],
   "source": [
    "df[(df['Gender'] == 'F') & (df['Attrition_Flag'] == 'Existing Customer')]['Attrition_Flag'].count() # -> More women use the service than men "
   ]
  },
  {
   "cell_type": "markdown",
   "metadata": {},
   "source": [
    "# Feature engineering "
   ]
  },
  {
   "cell_type": "code",
   "execution_count": 13,
   "metadata": {},
   "outputs": [],
   "source": [
    "def agelabel(x):\n",
    "    if x <= 26:\n",
    "        return 'Young'\n",
    "    elif x > 26 and x <= 41:\n",
    "        return 'Middle Age'\n",
    "    elif x > 41 and x <= 52:\n",
    "        return 'Older Adults'\n",
    "    else:\n",
    "        return 'the elderly'\n",
    "df['Age_Rank'] = df['Customer_Age'].apply(agelabel)"
   ]
  },
  {
   "cell_type": "code",
   "execution_count": 14,
   "metadata": {},
   "outputs": [
    {
     "name": "stderr",
     "output_type": "stream",
     "text": [
      "C:\\Users\\HP\\AppData\\Local\\Temp\\ipykernel_2068\\4047127589.py:1: FutureWarning: A value is trying to be set on a copy of a DataFrame or Series through chained assignment using an inplace method.\n",
      "The behavior will change in pandas 3.0. This inplace method will never work because the intermediate object on which we are setting values always behaves as a copy.\n",
      "\n",
      "For example, when doing 'df[col].method(value, inplace=True)', try using 'df.method({col: value}, inplace=True)' or df[col] = df[col].method(value) instead, to perform the operation inplace on the original object.\n",
      "\n",
      "\n",
      "  df['Income_Category'].replace('Unknown', pd.NA, inplace=True)\n"
     ]
    }
   ],
   "source": [
    "df['Income_Category'].replace('Unknown', pd.NA, inplace=True)\n",
    "df.dropna(subset=['Income_Category'], inplace=True)"
   ]
  },
  {
   "cell_type": "code",
   "execution_count": 15,
   "metadata": {},
   "outputs": [],
   "source": [
    "df['Mean_Income'] = df['Income_Category'].map(\n",
    "    {\n",
    "        'Less than $40K': 19825,\n",
    "        '$60K - $80K': 70000,\n",
    "        '$40K - $60K': 50000,\n",
    "        '$80K - $120K': 100000,\n",
    "        'Larger than $120K': 160000\n",
    "        \n",
    "    }\n",
    ")"
   ]
  },
  {
   "cell_type": "code",
   "execution_count": 16,
   "metadata": {},
   "outputs": [],
   "source": [
    "df['Attrition_Flag'] = df['Attrition_Flag'].map(\n",
    "    {'Attrited Customer': 0,\n",
    "     'Existing Customer': 1\n",
    "     }\n",
    ")"
   ]
  },
  {
   "cell_type": "code",
   "execution_count": 17,
   "metadata": {},
   "outputs": [],
   "source": [
    "df.dropna(subset=['Mean_Income'], inplace=True)\n",
    "df.drop(columns='Income_Category', inplace=True)"
   ]
  },
  {
   "cell_type": "code",
   "execution_count": 18,
   "metadata": {},
   "outputs": [],
   "source": [
    "y = df['Attrition_Flag']\n",
    "X = df.drop(columns=['Attrition_Flag'])"
   ]
  },
  {
   "cell_type": "code",
   "execution_count": 19,
   "metadata": {},
   "outputs": [
    {
     "data": {
      "text/plain": [
       "1    1\n",
       "2    1\n",
       "3    1\n",
       "5    1\n",
       "6    1\n",
       "Name: Attrition_Flag, dtype: int64"
      ]
     },
     "execution_count": 19,
     "metadata": {},
     "output_type": "execute_result"
    }
   ],
   "source": [
    "y.head()"
   ]
  },
  {
   "cell_type": "markdown",
   "metadata": {},
   "source": [
    "# Transform"
   ]
  },
  {
   "cell_type": "code",
   "execution_count": 20,
   "metadata": {},
   "outputs": [],
   "source": [
    "from sklearn.preprocessing import StandardScaler, OneHotEncoder"
   ]
  },
  {
   "cell_type": "code",
   "execution_count": 21,
   "metadata": {},
   "outputs": [],
   "source": [
    "Category = X.select_dtypes(include='object').columns.to_list()\n",
    "Numerical = X.select_dtypes(include=('float64','int64')).columns.to_list()"
   ]
  },
  {
   "cell_type": "code",
   "execution_count": 22,
   "metadata": {},
   "outputs": [
    {
     "name": "stdout",
     "output_type": "stream",
     "text": [
      "Categories: ['Gender', 'Education_Level', 'Marital_Status', 'Card_Category', 'Age_Rank']\n",
      "Numeric: ['CLIENTNUM', 'Customer_Age', 'Dependent_count', 'Months_on_book', 'Total_Relationship_Count', 'Months_Inactive_12_mon', 'Contacts_Count_12_mon', 'Credit_Limit', 'Total_Revolving_Bal', 'Avg_Open_To_Buy', 'Total_Amt_Chng_Q4_Q1', 'Total_Trans_Amt', 'Total_Trans_Ct', 'Total_Ct_Chng_Q4_Q1', 'Avg_Utilization_Ratio', 'Mean_Income']\n"
     ]
    }
   ],
   "source": [
    "print(f'Categories: {Category}')\n",
    "print(f'Numeric: {Numerical}')"
   ]
  },
  {
   "cell_type": "code",
   "execution_count": 23,
   "metadata": {},
   "outputs": [],
   "source": [
    "stan = StandardScaler()\n",
    "X[Numerical] = stan.fit_transform(X[Numerical])\n",
    "\n",
    "# Create an instance of OneHotEncoder\n",
    "enc = OneHotEncoder(handle_unknown='ignore')\n",
    "\n",
    "# Fit and transform the categorical columns\n",
    "cate_onehot = enc.fit_transform(X[Category])\n",
    "cate_onehot = cate_onehot.toarray()\n",
    "# Convert the sparse matrix to a DataFrame with appropriate column names\n",
    "cate_onehot_df = pd.DataFrame(cate_onehot, columns=enc.get_feature_names_out(Category))\n",
    "\n",
    "# Ensure the indices are consistent\n",
    "X.reset_index(drop=True, inplace=True)\n",
    "cate_onehot_df.reset_index(drop=True, inplace=True)\n",
    "\n",
    "# Concatenate the numerical columns and the one-hot encoded categorical columns\n",
    "X_final = pd.concat([X[Numerical], cate_onehot_df], axis=1)\n"
   ]
  },
  {
   "cell_type": "code",
   "execution_count": 24,
   "metadata": {},
   "outputs": [
    {
     "data": {
      "text/html": [
       "<div>\n",
       "<style scoped>\n",
       "    .dataframe tbody tr th:only-of-type {\n",
       "        vertical-align: middle;\n",
       "    }\n",
       "\n",
       "    .dataframe tbody tr th {\n",
       "        vertical-align: top;\n",
       "    }\n",
       "\n",
       "    .dataframe thead th {\n",
       "        text-align: right;\n",
       "    }\n",
       "</style>\n",
       "<table border=\"1\" class=\"dataframe\">\n",
       "  <thead>\n",
       "    <tr style=\"text-align: right;\">\n",
       "      <th></th>\n",
       "      <th>CLIENTNUM</th>\n",
       "      <th>Customer_Age</th>\n",
       "      <th>Dependent_count</th>\n",
       "      <th>Months_on_book</th>\n",
       "      <th>Total_Relationship_Count</th>\n",
       "      <th>Months_Inactive_12_mon</th>\n",
       "      <th>Contacts_Count_12_mon</th>\n",
       "      <th>Credit_Limit</th>\n",
       "      <th>Total_Revolving_Bal</th>\n",
       "      <th>Avg_Open_To_Buy</th>\n",
       "      <th>...</th>\n",
       "      <th>Marital_Status_Single</th>\n",
       "      <th>Marital_Status_Unknown</th>\n",
       "      <th>Card_Category_Blue</th>\n",
       "      <th>Card_Category_Gold</th>\n",
       "      <th>Card_Category_Platinum</th>\n",
       "      <th>Card_Category_Silver</th>\n",
       "      <th>Age_Rank_Middle Age</th>\n",
       "      <th>Age_Rank_Older Adults</th>\n",
       "      <th>Age_Rank_Young</th>\n",
       "      <th>Age_Rank_the elderly</th>\n",
       "    </tr>\n",
       "  </thead>\n",
       "  <tbody>\n",
       "    <tr>\n",
       "      <th>0</th>\n",
       "      <td>-0.578774</td>\n",
       "      <td>0.349485</td>\n",
       "      <td>1.267105</td>\n",
       "      <td>0.019647</td>\n",
       "      <td>1.405585</td>\n",
       "      <td>1.649045</td>\n",
       "      <td>-0.407881</td>\n",
       "      <td>-0.521142</td>\n",
       "      <td>1.276258</td>\n",
       "      <td>-0.648444</td>\n",
       "      <td>...</td>\n",
       "      <td>0.0</td>\n",
       "      <td>1.0</td>\n",
       "      <td>1.0</td>\n",
       "      <td>0.0</td>\n",
       "      <td>0.0</td>\n",
       "      <td>0.0</td>\n",
       "      <td>0.0</td>\n",
       "      <td>1.0</td>\n",
       "      <td>0.0</td>\n",
       "      <td>0.0</td>\n",
       "    </tr>\n",
       "    <tr>\n",
       "      <th>1</th>\n",
       "      <td>-0.612907</td>\n",
       "      <td>0.349485</td>\n",
       "      <td>0.501041</td>\n",
       "      <td>0.019647</td>\n",
       "      <td>-1.165938</td>\n",
       "      <td>-0.336024</td>\n",
       "      <td>-2.217492</td>\n",
       "      <td>-0.582227</td>\n",
       "      <td>1.476895</td>\n",
       "      <td>-0.729554</td>\n",
       "      <td>...</td>\n",
       "      <td>1.0</td>\n",
       "      <td>0.0</td>\n",
       "      <td>1.0</td>\n",
       "      <td>0.0</td>\n",
       "      <td>0.0</td>\n",
       "      <td>0.0</td>\n",
       "      <td>0.0</td>\n",
       "      <td>1.0</td>\n",
       "      <td>0.0</td>\n",
       "      <td>0.0</td>\n",
       "    </tr>\n",
       "    <tr>\n",
       "      <th>2</th>\n",
       "      <td>0.795225</td>\n",
       "      <td>1.222962</td>\n",
       "      <td>-0.265022</td>\n",
       "      <td>1.778160</td>\n",
       "      <td>0.119823</td>\n",
       "      <td>-0.336024</td>\n",
       "      <td>0.496924</td>\n",
       "      <td>-0.378283</td>\n",
       "      <td>0.882368</td>\n",
       "      <td>-0.466285</td>\n",
       "      <td>...</td>\n",
       "      <td>0.0</td>\n",
       "      <td>0.0</td>\n",
       "      <td>1.0</td>\n",
       "      <td>0.0</td>\n",
       "      <td>0.0</td>\n",
       "      <td>0.0</td>\n",
       "      <td>0.0</td>\n",
       "      <td>0.0</td>\n",
       "      <td>0.0</td>\n",
       "      <td>1.0</td>\n",
       "    </tr>\n",
       "    <tr>\n",
       "      <th>3</th>\n",
       "      <td>-0.681802</td>\n",
       "      <td>-0.523992</td>\n",
       "      <td>-0.265022</td>\n",
       "      <td>-0.231569</td>\n",
       "      <td>0.119823</td>\n",
       "      <td>1.649045</td>\n",
       "      <td>0.496924</td>\n",
       "      <td>-0.516462</td>\n",
       "      <td>0.726044</td>\n",
       "      <td>-0.588750</td>\n",
       "      <td>...</td>\n",
       "      <td>1.0</td>\n",
       "      <td>0.0</td>\n",
       "      <td>1.0</td>\n",
       "      <td>0.0</td>\n",
       "      <td>0.0</td>\n",
       "      <td>0.0</td>\n",
       "      <td>0.0</td>\n",
       "      <td>1.0</td>\n",
       "      <td>0.0</td>\n",
       "      <td>0.0</td>\n",
       "    </tr>\n",
       "    <tr>\n",
       "      <th>4</th>\n",
       "      <td>1.310974</td>\n",
       "      <td>1.098179</td>\n",
       "      <td>0.501041</td>\n",
       "      <td>1.401336</td>\n",
       "      <td>0.119823</td>\n",
       "      <td>-0.336024</td>\n",
       "      <td>0.496924</td>\n",
       "      <td>-0.504147</td>\n",
       "      <td>1.049771</td>\n",
       "      <td>-0.608812</td>\n",
       "      <td>...</td>\n",
       "      <td>0.0</td>\n",
       "      <td>0.0</td>\n",
       "      <td>1.0</td>\n",
       "      <td>0.0</td>\n",
       "      <td>0.0</td>\n",
       "      <td>0.0</td>\n",
       "      <td>0.0</td>\n",
       "      <td>0.0</td>\n",
       "      <td>0.0</td>\n",
       "      <td>1.0</td>\n",
       "    </tr>\n",
       "  </tbody>\n",
       "</table>\n",
       "<p>5 rows × 37 columns</p>\n",
       "</div>"
      ],
      "text/plain": [
       "   CLIENTNUM  Customer_Age  Dependent_count  Months_on_book  \\\n",
       "0  -0.578774      0.349485         1.267105        0.019647   \n",
       "1  -0.612907      0.349485         0.501041        0.019647   \n",
       "2   0.795225      1.222962        -0.265022        1.778160   \n",
       "3  -0.681802     -0.523992        -0.265022       -0.231569   \n",
       "4   1.310974      1.098179         0.501041        1.401336   \n",
       "\n",
       "   Total_Relationship_Count  Months_Inactive_12_mon  Contacts_Count_12_mon  \\\n",
       "0                  1.405585                1.649045              -0.407881   \n",
       "1                 -1.165938               -0.336024              -2.217492   \n",
       "2                  0.119823               -0.336024               0.496924   \n",
       "3                  0.119823                1.649045               0.496924   \n",
       "4                  0.119823               -0.336024               0.496924   \n",
       "\n",
       "   Credit_Limit  Total_Revolving_Bal  Avg_Open_To_Buy  ...  \\\n",
       "0     -0.521142             1.276258        -0.648444  ...   \n",
       "1     -0.582227             1.476895        -0.729554  ...   \n",
       "2     -0.378283             0.882368        -0.466285  ...   \n",
       "3     -0.516462             0.726044        -0.588750  ...   \n",
       "4     -0.504147             1.049771        -0.608812  ...   \n",
       "\n",
       "   Marital_Status_Single  Marital_Status_Unknown  Card_Category_Blue  \\\n",
       "0                    0.0                     1.0                 1.0   \n",
       "1                    1.0                     0.0                 1.0   \n",
       "2                    0.0                     0.0                 1.0   \n",
       "3                    1.0                     0.0                 1.0   \n",
       "4                    0.0                     0.0                 1.0   \n",
       "\n",
       "   Card_Category_Gold  Card_Category_Platinum  Card_Category_Silver  \\\n",
       "0                 0.0                     0.0                   0.0   \n",
       "1                 0.0                     0.0                   0.0   \n",
       "2                 0.0                     0.0                   0.0   \n",
       "3                 0.0                     0.0                   0.0   \n",
       "4                 0.0                     0.0                   0.0   \n",
       "\n",
       "   Age_Rank_Middle Age  Age_Rank_Older Adults  Age_Rank_Young  \\\n",
       "0                  0.0                    1.0             0.0   \n",
       "1                  0.0                    1.0             0.0   \n",
       "2                  0.0                    0.0             0.0   \n",
       "3                  0.0                    1.0             0.0   \n",
       "4                  0.0                    0.0             0.0   \n",
       "\n",
       "   Age_Rank_the elderly  \n",
       "0                   0.0  \n",
       "1                   0.0  \n",
       "2                   1.0  \n",
       "3                   0.0  \n",
       "4                   1.0  \n",
       "\n",
       "[5 rows x 37 columns]"
      ]
     },
     "execution_count": 24,
     "metadata": {},
     "output_type": "execute_result"
    }
   ],
   "source": [
    "X_final.head()"
   ]
  },
  {
   "cell_type": "markdown",
   "metadata": {},
   "source": [
    "# Check unbalanced data"
   ]
  },
  {
   "cell_type": "code",
   "execution_count": 25,
   "metadata": {},
   "outputs": [
    {
     "data": {
      "text/plain": [
       "Attrition_Flag\n",
       "1    6929\n",
       "0    1312\n",
       "Name: count, dtype: int64"
      ]
     },
     "execution_count": 25,
     "metadata": {},
     "output_type": "execute_result"
    }
   ],
   "source": [
    "y.value_counts()"
   ]
  },
  {
   "cell_type": "markdown",
   "metadata": {},
   "source": [
    "# Train_test_split"
   ]
  },
  {
   "cell_type": "code",
   "execution_count": 26,
   "metadata": {},
   "outputs": [],
   "source": [
    "from sklearn.model_selection import train_test_split, cross_val_score, GridSearchCV\n",
    "from imblearn.over_sampling import SMOTE\n",
    "from collections import Counter"
   ]
  },
  {
   "cell_type": "code",
   "execution_count": 27,
   "metadata": {},
   "outputs": [],
   "source": [
    "X_train, X_test, y_train, y_test = train_test_split(X_final, y, test_size=0.2, random_state=42, shuffle=True)"
   ]
  },
  {
   "cell_type": "markdown",
   "metadata": {},
   "source": [
    "# Upsampling"
   ]
  },
  {
   "cell_type": "code",
   "execution_count": 28,
   "metadata": {},
   "outputs": [
    {
     "name": "stdout",
     "output_type": "stream",
     "text": [
      "Resampled dataset shape Counter({0: 5540, 1: 5540})\n"
     ]
    }
   ],
   "source": [
    "sm = SMOTE(random_state=42, sampling_strategy='minority')\n",
    "X_res, y_res = sm.fit_resample(X_train, y_train)\n",
    "print('Resampled dataset shape %s' % Counter(y_res))"
   ]
  },
  {
   "cell_type": "markdown",
   "metadata": {},
   "source": [
    "# Training"
   ]
  },
  {
   "cell_type": "code",
   "execution_count": 29,
   "metadata": {},
   "outputs": [],
   "source": [
    "from sklearn.ensemble import RandomForestClassifier\n",
    "from sklearn.neighbors import KNeighborsClassifier\n",
    "from sklearn.linear_model import LogisticRegression\n",
    "from sklearn.svm import SVC"
   ]
  },
  {
   "cell_type": "code",
   "execution_count": 30,
   "metadata": {},
   "outputs": [
    {
     "name": "stdout",
     "output_type": "stream",
     "text": [
      "Model: [('Randomforest', RandomForestClassifier()), ('KNN', KNeighborsClassifier()), ('Logistic', LogisticRegression()), ('SVC', SVC())]\n"
     ]
    }
   ],
   "source": [
    "model = []\n",
    "\n",
    "model.append(('Randomforest', RandomForestClassifier()))\n",
    "model.append(('KNN', KNeighborsClassifier()))\n",
    "model.append(('Logistic', LogisticRegression()))\n",
    "model.append(('SVC', SVC()))\n",
    "print('Model: {}'.format(model))"
   ]
  },
  {
   "cell_type": "markdown",
   "metadata": {},
   "source": [
    "# Cross_validation"
   ]
  },
  {
   "cell_type": "code",
   "execution_count": 31,
   "metadata": {},
   "outputs": [
    {
     "name": "stdout",
     "output_type": "stream",
     "text": [
      "Mean of the Randomforest model scores : 0.9761732851985558\n",
      "Mean of the KNN model scores : 0.9143501805054151\n",
      "Mean of the Logistic model scores : 0.8611010830324909\n",
      "Mean of the SVC model scores : 0.9494584837545127\n"
     ]
    }
   ],
   "source": [
    "model_names = []\n",
    "scores = []\n",
    "# Creating a for loop to see cross validation scores for every model above:\n",
    "np.random.seed(42)\n",
    "for names, models in model:\n",
    "    score = cross_val_score(models, X_res, y_res, cv=4, scoring='accuracy')\n",
    "    scores.append(score)\n",
    "    model_names.append(models)\n",
    "    print(f\"Mean of the {names} model scores : {score.mean()}\")"
   ]
  },
  {
   "cell_type": "markdown",
   "metadata": {},
   "source": [
    "# Predict Prob"
   ]
  },
  {
   "cell_type": "code",
   "execution_count": 32,
   "metadata": {},
   "outputs": [],
   "source": [
    "from sklearn.metrics import classification_report, log_loss, roc_auc_score, confusion_matrix"
   ]
  },
  {
   "cell_type": "code",
   "execution_count": 33,
   "metadata": {},
   "outputs": [],
   "source": [
    "random_iterations  = np.random.randint(0,100)\n",
    "log_loss_train = []\n",
    "log_loss_test = []\n",
    "roc_auc_train = []\n",
    "roc_auc_test = []\n",
    "random_seeds = []\n",
    "for i in range(random_iterations):\n",
    "    rdf = RandomForestClassifier(random_state=i, class_weight='balanced').fit(X_res, y_res)\n",
    "    # Predict probabilities on the training set\n",
    "    y_train_proba = rdf.predict_proba(X_res)\n",
    "    log_loss_train.append(log_loss(y_res, y_train_proba))\n",
    "    roc_auc_train.append(roc_auc_score(y_res, y_train_proba[:, 1] >= 0.5))\n",
    "    \n",
    "    # Predict probabilities on the test set\n",
    "    y_test_proba = rdf.predict_proba(X_test)\n",
    "    log_loss_test.append(log_loss(y_test, y_test_proba))\n",
    "    roc_auc_test.append(roc_auc_score(y_test, y_test_proba[:, 1] >= 0.5))\n",
    "    \n",
    "    # Append the random seeds to the respective list\n",
    "    random_seeds.append(i)"
   ]
  },
  {
   "cell_type": "code",
   "execution_count": 54,
   "metadata": {},
   "outputs": [
    {
     "data": {
      "image/png": "[encoded data removed]",
      "text/plain": [
       "<Figure size 640x480 with 2 Axes>"
      ]
     },
     "metadata": {},
     "output_type": "display_data"
    }
   ],
   "source": [
    "def rdf_plot(acc_score_train, acc_score_test):\n",
    "    plt.subplot(121)\n",
    "    plt.plot(acc_score_train)\n",
    "    plt.xlabel('Random state')\n",
    "    plt.ylabel('Roc Auc Train Accuracy')\n",
    "    plt.subplot(122)\n",
    "    plt.plot(acc_score_test)\n",
    "    plt.xlabel('Random state')\n",
    "    plt.ylabel('Roc Auc Test Accuracy')\n",
    "    plt.tight_layout()\n",
    "rdf_plot(roc_auc_train, roc_auc_test)"
   ]
  },
  {
   "cell_type": "code",
   "execution_count": 35,
   "metadata": {},
   "outputs": [],
   "source": [
    "# Convert probabilities to class predictions\n",
    "y_train_pred = np.argmax(y_train_proba, axis=1) \n",
    "y_test_pred = np.argmax(y_test_proba, axis=1) "
   ]
  },
  {
   "cell_type": "code",
   "execution_count": 36,
   "metadata": {},
   "outputs": [
    {
     "name": "stdout",
     "output_type": "stream",
     "text": [
      "Report metrics on Train:               precision    recall  f1-score   support\n",
      "\n",
      "           0       1.00      1.00      1.00      5540\n",
      "           1       1.00      1.00      1.00      5540\n",
      "\n",
      "    accuracy                           1.00     11080\n",
      "   macro avg       1.00      1.00      1.00     11080\n",
      "weighted avg       1.00      1.00      1.00     11080\n",
      "\n",
      "Report metrics on Test:               precision    recall  f1-score   support\n",
      "\n",
      "           0       0.82      0.86      0.84       260\n",
      "           1       0.97      0.96      0.97      1389\n",
      "\n",
      "    accuracy                           0.95      1649\n",
      "   macro avg       0.90      0.91      0.90      1649\n",
      "weighted avg       0.95      0.95      0.95      1649\n",
      "\n"
     ]
    }
   ],
   "source": [
    "print(f'Report metrics on Train: {classification_report(y_res, y_train_pred)}')\n",
    "print(f'Report metrics on Test: {classification_report(y_test, y_test_pred)}')"
   ]
  },
  {
   "cell_type": "markdown",
   "metadata": {},
   "source": [
    "# Feature Selection"
   ]
  },
  {
   "cell_type": "code",
   "execution_count": 37,
   "metadata": {},
   "outputs": [
    {
     "name": "stdout",
     "output_type": "stream",
     "text": [
      "Feature : Score\n",
      "CLIENTNUM: 0.01649388169875261\n",
      "Customer_Age: 0.01944212600184622\n",
      "Dependent_count: 0.011722547252115524\n",
      "Months_on_book: 0.016314901017587077\n",
      "Total_Relationship_Count: 0.05564342326385103\n",
      "Months_Inactive_12_mon: 0.045504399687650236\n",
      "Contacts_Count_12_mon: 0.038814153994633185\n",
      "Credit_Limit: 0.02285910253681322\n",
      "Total_Revolving_Bal: 0.10314654580382712\n",
      "Avg_Open_To_Buy: 0.021083458179838054\n",
      "Total_Amt_Chng_Q4_Q1: 0.04788334513307519\n",
      "Total_Trans_Amt: 0.16527826791826114\n",
      "Total_Trans_Ct: 0.21328484208484672\n",
      "Total_Ct_Chng_Q4_Q1: 0.07454689230684451\n",
      "Avg_Utilization_Ratio: 0.05049722634807427\n",
      "Mean_Income: 0.00942048584737292\n",
      "Gender_F: 0.007486792151839748\n",
      "Gender_M: 0.007373801615068526\n",
      "Education_Level_College: 0.0028125928509621146\n",
      "Education_Level_Doctorate: 0.0015898581846994768\n",
      "Education_Level_Graduate: 0.008829332168441504\n",
      "Education_Level_High School: 0.006767240051212296\n",
      "Education_Level_Post-Graduate: 0.0034402338843409286\n",
      "Education_Level_Uneducated: 0.004426732501386963\n",
      "Education_Level_Unknown: 0.005567225148427156\n",
      "Marital_Status_Divorced: 0.0019203718663491466\n",
      "Marital_Status_Married: 0.009014065734784556\n",
      "Marital_Status_Single: 0.007538883716272418\n",
      "Marital_Status_Unknown: 0.0020226381285152802\n",
      "Card_Category_Blue: 0.00201899367113341\n",
      "Card_Category_Gold: 0.001561021379948254\n",
      "Card_Category_Platinum: 5.9237468910148e-05\n",
      "Card_Category_Silver: 0.0014831137996966373\n",
      "Age_Rank_Middle Age: 0.0027845536727191824\n",
      "Age_Rank_Older Adults: 0.007236653923321444\n",
      "Age_Rank_Young: 0.001033013461529914\n",
      "Age_Rank_the elderly: 0.0030980455450518797\n"
     ]
    }
   ],
   "source": [
    "feature_list = []\n",
    "feature_scores = rdf.feature_importances_\n",
    "print(\"Feature : Score\")\n",
    "for feature, score in zip(X_res.columns, feature_scores):\n",
    "    print(f\"{feature}: {score}\")\n",
    "    if score >= 0.05:\n",
    "        feature_list.append(feature)"
   ]
  },
  {
   "cell_type": "code",
   "execution_count": 38,
   "metadata": {},
   "outputs": [
    {
     "data": {
      "text/plain": [
       "['Total_Relationship_Count',\n",
       " 'Total_Revolving_Bal',\n",
       " 'Total_Trans_Amt',\n",
       " 'Total_Trans_Ct',\n",
       " 'Total_Ct_Chng_Q4_Q1',\n",
       " 'Avg_Utilization_Ratio']"
      ]
     },
     "execution_count": 38,
     "metadata": {},
     "output_type": "execute_result"
    }
   ],
   "source": [
    "feature_list"
   ]
  },
  {
   "cell_type": "code",
   "execution_count": 39,
   "metadata": {},
   "outputs": [],
   "source": [
    "X_res = X_res[feature_list]"
   ]
  },
  {
   "cell_type": "markdown",
   "metadata": {},
   "source": [
    "# Train test split"
   ]
  },
  {
   "cell_type": "code",
   "execution_count": 40,
   "metadata": {},
   "outputs": [],
   "source": [
    "X_train_res, X_test_res, y_train_res, y_test_res = train_test_split(X_res, y_res, train_size=0.2, random_state=42, shuffle=True)"
   ]
  },
  {
   "cell_type": "code",
   "execution_count": 41,
   "metadata": {},
   "outputs": [
    {
     "name": "stdout",
     "output_type": "stream",
     "text": [
      "Size of X_train: 2216\n",
      "Size of X_test: 8864\n",
      "Size of y_train: 2216\n",
      "Size of y_test: 8864\n"
     ]
    }
   ],
   "source": [
    "print('Size of X_train: {}'.format(len(X_train_res)))\n",
    "print('Size of X_test: {}'.format(len(X_test_res)))\n",
    "print('Size of y_train: {}'.format(len(y_train_res)))\n",
    "print('Size of y_test: {}'.format(len(y_test_res)))"
   ]
  },
  {
   "cell_type": "code",
   "execution_count": 42,
   "metadata": {},
   "outputs": [],
   "source": [
    "from sklearn.linear_model import LogisticRegression"
   ]
  },
  {
   "cell_type": "code",
   "execution_count": 43,
   "metadata": {},
   "outputs": [],
   "source": [
    "log_loss_train_rdf = []\n",
    "log_loss_test_rdf = []\n",
    "roc_auc_train_rdf = []\n",
    "roc_auc_test_rdf = []\n",
    "max_depth_rdf = []\n",
    "for i in range(1, random_iterations):\n",
    "    rdfs = RandomForestClassifier(\n",
    "        random_state=i,\n",
    "        max_depth=i,\n",
    "        ).fit(X_train_res, y_train_res)\n",
    "    # Predict probabilities on the training set\n",
    "    y_train_proba_rdf = rdfs.predict_proba(X_train_res)\n",
    "    roc_auc_train_rdf.append(roc_auc_score(y_train_res, y_train_proba_rdf[:, 1] >= 0.7))\n",
    "    \n",
    "    # Predict probabilities on the test set\n",
    "    y_test_proba_rdf = rdfs.predict_proba(X_test_res)\n",
    "    roc_auc_test_rdf.append(roc_auc_score(y_test_res, y_test_proba_rdf[:, 1] >= 0.7))\n",
    "    max_depth_rdf.append(i)"
   ]
  },
  {
   "cell_type": "code",
   "execution_count": 44,
   "metadata": {},
   "outputs": [
    {
     "data": {
      "image/png": "[encoded data removed]",
      "text/plain": [
       "<Figure size 1000x600 with 1 Axes>"
      ]
     },
     "metadata": {},
     "output_type": "display_data"
    }
   ],
   "source": [
    "def rdf_plot(acc_score_train, acc_score_test, max_depth_rdf):\n",
    "    plt.figure(figsize=(10, 6))\n",
    "    plt.plot(max_depth_rdf, acc_score_train, marker='o', label='Train ROC AUC')\n",
    "    plt.plot(max_depth_rdf, acc_score_test, marker='o', label='Test ROC AUC')\n",
    "    plt.title('Random Forest Classifier ROC AUC Scores by max_depth')\n",
    "    plt.xlabel('max_depth')\n",
    "    plt.ylabel('ROC AUC Score')\n",
    "    plt.xticks(max_depth_rdf)\n",
    "    plt.xlim((1,20))\n",
    "    plt.legend()\n",
    "    plt.grid(True)\n",
    "    plt.tight_layout()\n",
    "    plt.show()\n",
    "rdf_plot(roc_auc_train_rdf, roc_auc_test_rdf, max_depth_rdf)"
   ]
  },
  {
   "cell_type": "code",
   "execution_count": 45,
   "metadata": {},
   "outputs": [],
   "source": [
    "rdfs_new = RandomForestClassifier(\n",
    "    random_state=42,\n",
    "    max_depth=15,\n",
    "    n_jobs=-1,\n",
    "    class_weight='balanced'\n",
    "    ).fit(X_train_res, y_train_res)\n",
    "# Predict probabilities on the training set\n",
    "y_train_proba_rdf_new = rdfs_new.predict_proba(X_train_res)\n",
    "# Predict probabilities on the test set\n",
    "y_test_proba_rdf_new = rdfs.predict_proba(X_test_res)\n"
   ]
  },
  {
   "cell_type": "code",
   "execution_count": 46,
   "metadata": {},
   "outputs": [
    {
     "name": "stdout",
     "output_type": "stream",
     "text": [
      "Report metrics on Train:               precision    recall  f1-score   support\n",
      "\n",
      "           0       1.00      1.00      1.00      1132\n",
      "           1       1.00      1.00      1.00      1084\n",
      "\n",
      "    accuracy                           1.00      2216\n",
      "   macro avg       1.00      1.00      1.00      2216\n",
      "weighted avg       1.00      1.00      1.00      2216\n",
      "\n",
      "Report metrics on Test:               precision    recall  f1-score   support\n",
      "\n",
      "           0       0.95      0.95      0.95      4408\n",
      "           1       0.95      0.95      0.95      4456\n",
      "\n",
      "    accuracy                           0.95      8864\n",
      "   macro avg       0.95      0.95      0.95      8864\n",
      "weighted avg       0.95      0.95      0.95      8864\n",
      "\n"
     ]
    }
   ],
   "source": [
    "print(f'Report metrics on Train: {classification_report(y_train_res, y_train_proba_rdf_new[:, 1] >= 0.5)}')\n",
    "print(f'Report metrics on Test: {classification_report(y_test_res, y_test_proba_rdf_new[:, 1] >= 0.5)}')"
   ]
  },
  {
   "cell_type": "markdown",
   "metadata": {},
   "source": [
    "# Inference on testset with Randomforest"
   ]
  },
  {
   "cell_type": "code",
   "execution_count": 47,
   "metadata": {},
   "outputs": [],
   "source": [
    "y_test_proba_rdf_new_classify = np.argmax(y_test_proba_rdf_new, axis=1)"
   ]
  },
  {
   "cell_type": "code",
   "execution_count": 48,
   "metadata": {},
   "outputs": [
    {
     "name": "stdout",
     "output_type": "stream",
     "text": [
      "Randomforest on test predict\n"
     ]
    },
    {
     "data": {
      "text/html": [
       "<div>\n",
       "<style scoped>\n",
       "    .dataframe tbody tr th:only-of-type {\n",
       "        vertical-align: middle;\n",
       "    }\n",
       "\n",
       "    .dataframe tbody tr th {\n",
       "        vertical-align: top;\n",
       "    }\n",
       "\n",
       "    .dataframe thead th {\n",
       "        text-align: right;\n",
       "    }\n",
       "</style>\n",
       "<table border=\"1\" class=\"dataframe\">\n",
       "  <thead>\n",
       "    <tr style=\"text-align: right;\">\n",
       "      <th></th>\n",
       "      <th>Test True</th>\n",
       "      <th>Test Predict</th>\n",
       "    </tr>\n",
       "  </thead>\n",
       "  <tbody>\n",
       "    <tr>\n",
       "      <th>5880</th>\n",
       "      <td>1</td>\n",
       "      <td>1</td>\n",
       "    </tr>\n",
       "    <tr>\n",
       "      <th>9583</th>\n",
       "      <td>0</td>\n",
       "      <td>0</td>\n",
       "    </tr>\n",
       "    <tr>\n",
       "      <th>7936</th>\n",
       "      <td>0</td>\n",
       "      <td>0</td>\n",
       "    </tr>\n",
       "    <tr>\n",
       "      <th>6913</th>\n",
       "      <td>0</td>\n",
       "      <td>0</td>\n",
       "    </tr>\n",
       "    <tr>\n",
       "      <th>2485</th>\n",
       "      <td>0</td>\n",
       "      <td>0</td>\n",
       "    </tr>\n",
       "    <tr>\n",
       "      <th>...</th>\n",
       "      <td>...</td>\n",
       "      <td>...</td>\n",
       "    </tr>\n",
       "    <tr>\n",
       "      <th>9121</th>\n",
       "      <td>0</td>\n",
       "      <td>0</td>\n",
       "    </tr>\n",
       "    <tr>\n",
       "      <th>5607</th>\n",
       "      <td>1</td>\n",
       "      <td>1</td>\n",
       "    </tr>\n",
       "    <tr>\n",
       "      <th>5978</th>\n",
       "      <td>1</td>\n",
       "      <td>1</td>\n",
       "    </tr>\n",
       "    <tr>\n",
       "      <th>8843</th>\n",
       "      <td>0</td>\n",
       "      <td>0</td>\n",
       "    </tr>\n",
       "    <tr>\n",
       "      <th>3747</th>\n",
       "      <td>1</td>\n",
       "      <td>1</td>\n",
       "    </tr>\n",
       "  </tbody>\n",
       "</table>\n",
       "<p>8864 rows × 2 columns</p>\n",
       "</div>"
      ],
      "text/plain": [
       "      Test True  Test Predict\n",
       "5880          1             1\n",
       "9583          0             0\n",
       "7936          0             0\n",
       "6913          0             0\n",
       "2485          0             0\n",
       "...         ...           ...\n",
       "9121          0             0\n",
       "5607          1             1\n",
       "5978          1             1\n",
       "8843          0             0\n",
       "3747          1             1\n",
       "\n",
       "[8864 rows x 2 columns]"
      ]
     },
     "execution_count": 48,
     "metadata": {},
     "output_type": "execute_result"
    }
   ],
   "source": [
    "df_rdf_test = pd.DataFrame(\n",
    "    {'Test True': y_test_res,\n",
    "     'Test Predict': y_test_proba_rdf_new_classify,\n",
    "     }\n",
    "    \n",
    ")\n",
    "print('Randomforest on test predict')\n",
    "df_rdf_test"
   ]
  },
  {
   "cell_type": "code",
   "execution_count": 49,
   "metadata": {},
   "outputs": [
    {
     "data": {
      "image/png": "[encoded data removed]",
      "text/plain": [
       "<Figure size 640x480 with 2 Axes>"
      ]
     },
     "metadata": {},
     "output_type": "display_data"
    }
   ],
   "source": [
    "colormap = sns.color_palette(\"Greens\")\n",
    "sns.heatmap(confusion_matrix(df_rdf_test['Test True'], df_rdf_test['Test Predict']), annot=True, fmt='d', cmap=colormap)\n",
    "plt.title('Randomforest')\n",
    "plt.xlabel('Predict Label')\n",
    "plt.ylabel('True label');"
   ]
  },
  {
   "cell_type": "markdown",
   "metadata": {},
   "source": [
    "# Logistic Regression"
   ]
  },
  {
   "cell_type": "code",
   "execution_count": 50,
   "metadata": {},
   "outputs": [],
   "source": [
    "from sklearn.linear_model import LogisticRegression"
   ]
  },
  {
   "cell_type": "code",
   "execution_count": 51,
   "metadata": {},
   "outputs": [],
   "source": [
    "logistic = LogisticRegression(\n",
    "    fit_intercept=True,\n",
    "    penalty='l2',\n",
    "    random_state=42\n",
    "    ).fit(X_train_res, y_train_res)\n",
    "y_train_proba_lgts = logistic.predict_proba(X_train_res)[:, 1]\n",
    "y_test_proba_lgts = logistic.predict_proba(X_test_res)[:, 1]\n",
    "\n",
    "# Convert probabilities to binary predictions using a threshold of 0.5\n",
    "y_train_pred_lgts = (y_train_proba_lgts >= 0.5).astype(int)\n",
    "y_test_pred_lgts = (y_test_proba_lgts >= 0.5).astype(int)\n",
    "  "
   ]
  },
  {
   "cell_type": "code",
   "execution_count": 52,
   "metadata": {},
   "outputs": [
    {
     "name": "stdout",
     "output_type": "stream",
     "text": [
      "Report metrics on Train:               precision    recall  f1-score   support\n",
      "\n",
      "           0       0.83      0.84      0.84      1132\n",
      "           1       0.83      0.81      0.82      1084\n",
      "\n",
      "    accuracy                           0.83      2216\n",
      "   macro avg       0.83      0.83      0.83      2216\n",
      "weighted avg       0.83      0.83      0.83      2216\n",
      "\n",
      "Report metrics on Test:               precision    recall  f1-score   support\n",
      "\n",
      "           0       0.83      0.84      0.84      4408\n",
      "           1       0.84      0.83      0.83      4456\n",
      "\n",
      "    accuracy                           0.83      8864\n",
      "   macro avg       0.83      0.83      0.83      8864\n",
      "weighted avg       0.84      0.83      0.83      8864\n",
      "\n"
     ]
    }
   ],
   "source": [
    "print(f'Report metrics on Train: {classification_report(y_train_res, y_train_pred_lgts)}')\n",
    "print(f'Report metrics on Test: {classification_report(y_test_res, y_test_pred_lgts)}')"
   ]
  },
  {
   "cell_type": "markdown",
   "metadata": {},
   "source": [
    "# Inference on testset with Logistic Regression"
   ]
  },
  {
   "cell_type": "code",
   "execution_count": 55,
   "metadata": {},
   "outputs": [
    {
     "name": "stdout",
     "output_type": "stream",
     "text": [
      "Logistic on test predict\n"
     ]
    },
    {
     "data": {
      "text/html": [
       "<div>\n",
       "<style scoped>\n",
       "    .dataframe tbody tr th:only-of-type {\n",
       "        vertical-align: middle;\n",
       "    }\n",
       "\n",
       "    .dataframe tbody tr th {\n",
       "        vertical-align: top;\n",
       "    }\n",
       "\n",
       "    .dataframe thead th {\n",
       "        text-align: right;\n",
       "    }\n",
       "</style>\n",
       "<table border=\"1\" class=\"dataframe\">\n",
       "  <thead>\n",
       "    <tr style=\"text-align: right;\">\n",
       "      <th></th>\n",
       "      <th>Test True</th>\n",
       "      <th>Test Predict</th>\n",
       "    </tr>\n",
       "  </thead>\n",
       "  <tbody>\n",
       "    <tr>\n",
       "      <th>5880</th>\n",
       "      <td>1</td>\n",
       "      <td>1</td>\n",
       "    </tr>\n",
       "    <tr>\n",
       "      <th>9583</th>\n",
       "      <td>0</td>\n",
       "      <td>0</td>\n",
       "    </tr>\n",
       "    <tr>\n",
       "      <th>7936</th>\n",
       "      <td>0</td>\n",
       "      <td>0</td>\n",
       "    </tr>\n",
       "    <tr>\n",
       "      <th>6913</th>\n",
       "      <td>0</td>\n",
       "      <td>0</td>\n",
       "    </tr>\n",
       "    <tr>\n",
       "      <th>2485</th>\n",
       "      <td>0</td>\n",
       "      <td>0</td>\n",
       "    </tr>\n",
       "    <tr>\n",
       "      <th>...</th>\n",
       "      <td>...</td>\n",
       "      <td>...</td>\n",
       "    </tr>\n",
       "    <tr>\n",
       "      <th>9121</th>\n",
       "      <td>0</td>\n",
       "      <td>0</td>\n",
       "    </tr>\n",
       "    <tr>\n",
       "      <th>5607</th>\n",
       "      <td>1</td>\n",
       "      <td>1</td>\n",
       "    </tr>\n",
       "    <tr>\n",
       "      <th>5978</th>\n",
       "      <td>1</td>\n",
       "      <td>1</td>\n",
       "    </tr>\n",
       "    <tr>\n",
       "      <th>8843</th>\n",
       "      <td>0</td>\n",
       "      <td>0</td>\n",
       "    </tr>\n",
       "    <tr>\n",
       "      <th>3747</th>\n",
       "      <td>1</td>\n",
       "      <td>1</td>\n",
       "    </tr>\n",
       "  </tbody>\n",
       "</table>\n",
       "<p>8864 rows × 2 columns</p>\n",
       "</div>"
      ],
      "text/plain": [
       "      Test True  Test Predict\n",
       "5880          1             1\n",
       "9583          0             0\n",
       "7936          0             0\n",
       "6913          0             0\n",
       "2485          0             0\n",
       "...         ...           ...\n",
       "9121          0             0\n",
       "5607          1             1\n",
       "5978          1             1\n",
       "8843          0             0\n",
       "3747          1             1\n",
       "\n",
       "[8864 rows x 2 columns]"
      ]
     },
     "execution_count": 55,
     "metadata": {},
     "output_type": "execute_result"
    }
   ],
   "source": [
    "df_lgt_test = pd.DataFrame(\n",
    "    {'Test True': y_test_res,\n",
    "     'Test Predict': y_test_pred_lgts,\n",
    "     }\n",
    "    \n",
    ")\n",
    "print('Logistic on test predict')\n",
    "df_lgt_test"
   ]
  },
  {
   "cell_type": "code",
   "execution_count": 59,
   "metadata": {},
   "outputs": [
    {
     "data": {
      "image/png": "[encoded data removed]",
      "text/plain": [
       "<Figure size 640x480 with 2 Axes>"
      ]
     },
     "metadata": {},
     "output_type": "display_data"
    }
   ],
   "source": [
    "sns.heatmap(confusion_matrix(df_lgt_test['Test True'], df_lgt_test['Test Predict']), annot=True, fmt='d', cmap='crest')\n",
    "plt.title('Logistic Regression')\n",
    "plt.xlabel('Predict Label')\n",
    "plt.ylabel('True label');"
   ]
  }
 ],
 "metadata": {
  "kernelspec": {
   "display_name": "tensorflow",
   "language": "python",
   "name": "python3"
  },
  "language_info": {
   "codemirror_mode": {
    "name": "ipython",
    "version": 3
   },
   "file_extension": ".py",
   "mimetype": "text/x-python",
   "name": "python",
   "nbconvert_exporter": "python",
   "pygments_lexer": "ipython3",
   "version": "3.10.13"
  }
 },
 "nbformat": 4,
 "nbformat_minor": 2
}
